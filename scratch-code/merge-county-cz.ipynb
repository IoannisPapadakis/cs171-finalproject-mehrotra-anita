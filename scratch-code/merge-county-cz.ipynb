{
 "metadata": {
  "name": ""
 },
 "nbformat": 3,
 "nbformat_minor": 0,
 "worksheets": [
  {
   "cells": [
    {
     "cell_type": "code",
     "collapsed": false,
     "input": [
      "%pylab inline\n",
      "\n",
      "from matplotlib import rc\n",
      "rc('font',**{'family':'serif','serif':['Palatino']})\n",
      "rc('text', usetex=True)\n",
      "\n",
      "import numpy as np\n",
      "import scipy\n",
      "import scipy.stats\n",
      "import scipy.spatial\n",
      "import scipy.spatial.distance\n",
      "import matplotlib.pyplot as plt\n",
      "import prettyplotlib as pplt\n",
      "\n",
      "import pandas as pd\n",
      "import time"
     ],
     "language": "python",
     "metadata": {},
     "outputs": [
      {
       "output_type": "stream",
       "stream": "stdout",
       "text": [
        "Populating the interactive namespace from numpy and matplotlib\n"
       ]
      }
     ],
     "prompt_number": 1
    },
    {
     "cell_type": "code",
     "collapsed": false,
     "input": [
      "# merge FIP ids with county-state column from new data\n",
      "# counties = pd.read_csv(\"../data/fips-county-state.csv\")\n",
      "counties = np.loadtxt(\"../data/fips-county-state.csv\", delimiter=\",\", dtype=str, skiprows=1)\n",
      "print \"counties:\"\n",
      "print counties[0:10,]\n",
      "\n",
      "newdata = pd.read_csv(\"../data/alldata_again.csv\")\n",
      "print \"new data:\"\n",
      "print newdata.head()"
     ],
     "language": "python",
     "metadata": {},
     "outputs": [
      {
       "output_type": "stream",
       "stream": "stdout",
       "text": [
        "counties:\n",
        "[['1001' 'Autauga' 'AL']\n",
        " ['1003' 'Baldwin' 'AL']\n",
        " ['1005' 'Barbour' 'GA']\n",
        " ['1007' 'Bibb' 'AL']\n",
        " ['1009' 'Blount' 'AL']\n",
        " ['1011' 'Bullock' 'AL']\n",
        " ['1013' 'Butler' 'AL']\n",
        " ['1015' 'Calhoun' 'GA']\n",
        " ['1017' 'Chambers' 'GA']\n",
        " ['1019' 'Cherokee' 'GA']]\n",
        "new data:\n",
        "  county state  relative mobility  absolute mobility  sample size        lat  \\\n",
        "0   Autauga AL              0.444               38.4         1846  32.500389   \n",
        "1   Baldwin AL              0.336               39.6         5061  30.548923   \n",
        "2   Barbour GA              0.398               36.1         1129        NaN   \n",
        "3      Bibb AL              0.434               39.1          841  33.030921   \n",
        "4    Blount AL              0.317               42.0         1224  33.955243   \n",
        "\n",
        "        long  \n",
        "0 -86.494165  \n",
        "1 -87.762381  \n",
        "2        NaN  \n",
        "3 -87.127659  \n",
        "4 -86.591491  \n"
       ]
      }
     ],
     "prompt_number": 8
    },
    {
     "cell_type": "code",
     "collapsed": false,
     "input": [
      "# merge county and state from first file\n",
      "counties_col = []\n",
      "sm = shape(counties)[0]\n",
      "for i in xrange(sm):\n",
      "    counties_col.append(counties[i,1] + \" \" + counties[i,2])\n",
      "    \n",
      "print counties_col[0:10]\n",
      "\n",
      "counties_arr = np.array(counties_col).reshape(sm,1)\n",
      "counties2 = np.hstack((counties_arr, counties[:,0].reshape(sm,1)))\n",
      "print counties2[0:10,]"
     ],
     "language": "python",
     "metadata": {},
     "outputs": [
      {
       "output_type": "stream",
       "stream": "stdout",
       "text": [
        "['Autauga AL', 'Baldwin AL', 'Barbour GA', 'Bibb AL', 'Blount AL', 'Bullock AL', 'Butler AL', 'Calhoun GA', 'Chambers GA', 'Cherokee GA']\n",
        "[['Autauga AL' '1001']\n",
        " ['Baldwin AL' '1003']\n",
        " ['Barbour GA' '1005']\n",
        " ['Bibb AL' '1007']\n",
        " ['Blount AL' '1009']\n",
        " ['Bullock AL' '1011']\n",
        " ['Butler AL' '1013']\n",
        " ['Calhoun GA' '1015']\n",
        " ['Chambers GA' '1017']\n",
        " ['Cherokee GA' '1019']]\n"
       ]
      }
     ],
     "prompt_number": 16
    },
    {
     "cell_type": "code",
     "collapsed": false,
     "input": [
      "# rename columns\n",
      "my_counties = pd.DataFrame(counties2, columns=[\"county state\", \"fip\"])\n",
      "\n",
      "# merge data\n",
      "fipdata = my_counties.merge(right=newdata, how=\"left\", on=\"county state\")\n",
      "print fipdata.head()\n",
      "\n",
      "# output data\n",
      "fipdata[\"fip\"].to_csv(\"../data/countyID_again.csv\", index=False)\n",
      "\n",
      "mobilitydata = fipdata[[\"fip\", \"absolute mobility\"]]\n",
      "print mobilitydata.head()\n",
      "# mobilitydata_again = pd.DataFrame(mobilitydata, columns = [\"id\", \"absolute\"])\n",
      "mobilitydata.to_csv(\"../data/absolute_mobility_again.tsv\", sep=\"\\t\", index=False)\n"
     ],
     "language": "python",
     "metadata": {},
     "outputs": [
      {
       "output_type": "stream",
       "stream": "stdout",
       "text": [
        "  county state   fip  relative mobility  absolute mobility  sample size  \\\n",
        "0   Autauga AL  1001              0.444               38.4         1846   \n",
        "1   Baldwin AL  1003              0.336               39.6         5061   \n",
        "2   Barbour GA  1005              0.398               36.1         1129   \n",
        "3      Bibb AL  1007              0.434               39.1          841   \n",
        "4    Blount AL  1009              0.317               42.0         1224   \n",
        "\n",
        "         lat       long  \n",
        "0  32.500389 -86.494165  \n",
        "1  30.548923 -87.762381  \n",
        "2        NaN        NaN  \n",
        "3  33.030921 -87.127659  \n",
        "4  33.955243 -86.591491  \n",
        "    fip  absolute mobility\n",
        "0  1001               38.4\n",
        "1  1003               39.6\n",
        "2  1005               36.1\n",
        "3  1007               39.1\n",
        "4  1009               42.0\n"
       ]
      }
     ],
     "prompt_number": 28
    },
    {
     "cell_type": "code",
     "collapsed": false,
     "input": [
      "# load data\n",
      "county_data = pd.read_csv(\"../data/just-county.csv\")\n",
      "cz = pd.read_csv(\"../data/just-cz.csv\")\n",
      "\n",
      "print \"COUNTIES:\"\n",
      "print fipdata.head()\n",
      "print\n",
      "print \"COUNTIES DATA:\"\n",
      "print county_data.head()\n",
      "print\n",
      "print \"COMMUTING ZONES DATA:\"\n",
      "print cz.head()"
     ],
     "language": "python",
     "metadata": {},
     "outputs": [
      {
       "output_type": "stream",
       "stream": "stdout",
       "text": [
        "COUNTIES:\n",
        "  county state   fip  relative mobility  absolute mobility  sample size  \\\n",
        "0   Autauga AL  1001              0.444               38.4         1846   \n",
        "1   Baldwin AL  1003              0.336               39.6         5061   \n",
        "2   Barbour GA  1005              0.398               36.1         1129   \n",
        "3      Bibb AL  1007              0.434               39.1          841   \n",
        "4    Blount AL  1009              0.317               42.0         1224   \n",
        "\n",
        "         lat       long  \n",
        "0  32.500389 -86.494165  \n",
        "1  30.548923 -87.762381  \n",
        "2        NaN        NaN  \n",
        "3  33.030921 -87.127659  \n",
        "4  33.955243 -86.591491  \n",
        "\n",
        "COUNTIES DATA:\n",
        "   county id  commuting zone id  teenage br  mean parent income\n",
        "0       1001              11101       0.178               64000\n",
        "1       1003              11001       0.170               75300\n",
        "2       1005              10301       0.238               50000\n",
        "3       1007              10801       0.225               49600\n",
        "4       1009              10700       0.204               57300\n",
        "\n",
        "COMMUTING ZONES DATA:\n",
        "   commuting zone id  racial segregation  school exp per student  ts ratio  \\\n",
        "0                100               0.090                   5.185       NaN   \n",
        "1                200               0.093                   4.506       NaN   \n",
        "2                301               0.064                   5.614      15.1   \n",
        "3                302               0.210                   4.900       NaN   \n",
        "4                401               0.262                   5.463      15.4   \n",
        "\n",
        "   test score percentile  hs dropout rate  teenage labor force  violent crime  \\\n",
        "0                  2.728           -0.015                0.004          0.001   \n",
        "1                 -3.400           -0.024                0.005          0.002   \n",
        "2                 -9.315           -0.005                0.003          0.001   \n",
        "3                 -6.032           -0.011                0.004          0.001   \n",
        "4                 -2.297            0.023                0.004          0.003   \n",
        "\n",
        "   single mothers  divorced  \n",
        "0           0.190     0.110  \n",
        "1           0.185     0.116  \n",
        "2           0.211     0.113  \n",
        "3           0.206     0.114  \n",
        "4           0.220     0.092  "
       ]
      },
      {
       "output_type": "stream",
       "stream": "stdout",
       "text": [
        "\n"
       ]
      }
     ],
     "prompt_number": 30
    },
    {
     "cell_type": "code",
     "collapsed": false,
     "input": [
      "# select a subset of the commuting zone features\n",
      "sub_cz = pd.DataFrame(cz, columns = [\"commuting zone id\", \"school exp per student\", \"ts ratio\",\n",
      "                                     \"test score percentile\", \"hs dropout rate\"])\n",
      "\n",
      "print sub_cz.head()\n",
      "\n",
      "print shape(sub_cz)"
     ],
     "language": "python",
     "metadata": {},
     "outputs": [
      {
       "output_type": "stream",
       "stream": "stdout",
       "text": [
        "   commuting zone id  school exp per student  ts ratio  test score percentile  \\\n",
        "0                100                   5.185       NaN                  2.728   \n",
        "1                200                   4.506       NaN                 -3.400   \n",
        "2                301                   5.614      15.1                 -9.315   \n",
        "3                302                   4.900       NaN                 -6.032   \n",
        "4                401                   5.463      15.4                 -2.297   \n",
        "\n",
        "   hs dropout rate  \n",
        "0           -0.015  \n",
        "1           -0.024  \n",
        "2           -0.005  \n",
        "3           -0.011  \n",
        "4            0.023  \n",
        "(741, 5)\n"
       ]
      }
     ],
     "prompt_number": 31
    },
    {
     "cell_type": "markdown",
     "metadata": {},
     "source": [
      "Let's merge the subset of commuting zone data with county data. Recall that there are more counties than commuting zones. This is because a commuting zone is _defined as_ as an aggregation of counties. We want to merge on the commuting zone ID's."
     ]
    },
    {
     "cell_type": "code",
     "collapsed": false,
     "input": [
      "alldata = counties.merge(right=sub_cz, how=\"left\", on=\"commuting zone id\")\n",
      "\n",
      "print alldata.head()\n",
      "print shape(alldata)"
     ],
     "language": "python",
     "metadata": {},
     "outputs": [
      {
       "output_type": "stream",
       "stream": "stdout",
       "text": [
        "   county id  commuting zone id  teenage br  mean parent income  \\\n",
        "0       1001              11101       0.178               64000   \n",
        "1       1013              11101       0.205               44900   \n",
        "2       1051              11101       0.183               60500   \n",
        "3       1085              11101       0.232               34400   \n",
        "4       1101              11101       0.196               72300   \n",
        "\n",
        "   school exp per student  ts ratio  test score percentile  hs dropout rate  \n",
        "0                   4.424      17.9                -17.887            0.005  \n",
        "1                   4.424      17.9                -17.887            0.005  \n",
        "2                   4.424      17.9                -17.887            0.005  \n",
        "3                   4.424      17.9                -17.887            0.005  \n",
        "4                   4.424      17.9                -17.887            0.005  \n",
        "(3141, 8)\n"
       ]
      }
     ],
     "prompt_number": 5
    },
    {
     "cell_type": "code",
     "collapsed": false,
     "input": [
      "# remove empty rows from alldata\n",
      "alldata = alldata.dropna()\n",
      "print alldata.tail()"
     ],
     "language": "python",
     "metadata": {},
     "outputs": [
      {
       "output_type": "stream",
       "stream": "stdout",
       "text": [
        "      county id  commuting zone id  teenage br  mean parent income  \\\n",
        "3133      56009              34603       0.174               68700   \n",
        "3134      56025              34603       0.157               83300   \n",
        "3135      56013              34303       0.179               60500   \n",
        "3136      56015              27703       0.156               54900   \n",
        "3137      56031              27703       0.143               62200   \n",
        "\n",
        "      school exp per student  ts ratio  test score percentile  hs dropout rate  \n",
        "3133                   6.458      17.0                 -0.214            0.059  \n",
        "3134                   6.458      17.0                 -0.214            0.059  \n",
        "3135                   8.755      14.6                 -2.510            0.035  \n",
        "3136                   6.934      12.6                  8.823           -0.003  \n",
        "3137                   6.934      12.6                  8.823           -0.003  \n"
       ]
      }
     ],
     "prompt_number": 14
    },
    {
     "cell_type": "code",
     "collapsed": false,
     "input": [
      "print shape(alldata)\n",
      "# write all columns to csv\n",
      "alldata.to_csv(\"../data/all_data.csv\", index=False)"
     ],
     "language": "python",
     "metadata": {},
     "outputs": [
      {
       "output_type": "stream",
       "stream": "stdout",
       "text": [
        "(2164, 8)\n"
       ]
      }
     ],
     "prompt_number": 16
    },
    {
     "cell_type": "code",
     "collapsed": false,
     "input": [
      "# write features to csv\n",
      "data_of_interest = alldata.reindex( columns=[\"teenage br\", \"mean parent income\", \"school exp per student\",\n",
      "                                             \"ts ratio\", \"test score percentile\", \"hs dropout rate\"] )\n",
      "data_of_interest.columns= [\"Teenage Birth Rates\", \"Mean Parent Income\", \"School Expenditure/Student\",\n",
      "                                             \"Teacher-Student Ratio\", \"Test Score Percentile\", \n",
      "                                             \"HS Dropout Rate\"]\n",
      "data_of_interest.to_csv(\"../data/feature_vectors.csv\", index=False)\n"
     ],
     "language": "python",
     "metadata": {},
     "outputs": [],
     "prompt_number": 8
    },
    {
     "cell_type": "code",
     "collapsed": false,
     "input": [],
     "language": "python",
     "metadata": {},
     "outputs": []
    }
   ],
   "metadata": {}
  }
 ]
}
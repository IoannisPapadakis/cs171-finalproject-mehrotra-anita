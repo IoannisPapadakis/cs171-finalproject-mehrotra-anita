{
 "metadata": {
  "name": ""
 },
 "nbformat": 3,
 "nbformat_minor": 0,
 "worksheets": [
  {
   "cells": [
    {
     "cell_type": "code",
     "collapsed": false,
     "input": [
      "%pylab inline\n",
      "\n",
      "from matplotlib import rc\n",
      "rc('font',**{'family':'serif','serif':['Palatino']})\n",
      "rc('text', usetex=True)\n",
      "\n",
      "import numpy as np\n",
      "import scipy\n",
      "import scipy.stats\n",
      "import scipy.spatial\n",
      "import scipy.spatial.distance\n",
      "import matplotlib.pyplot as plt\n",
      "import prettyplotlib as pplt\n",
      "\n",
      "import pandas as pd\n",
      "import time"
     ],
     "language": "python",
     "metadata": {},
     "outputs": [
      {
       "output_type": "stream",
       "stream": "stdout",
       "text": [
        "Populating the interactive namespace from numpy and matplotlib\n"
       ]
      }
     ],
     "prompt_number": 1
    },
    {
     "cell_type": "code",
     "collapsed": false,
     "input": [
      "# merge FIP ids with county-state column from new data\n",
      "# counties = pd.read_csv(\"../data/fips-county-state.csv\")\n",
      "counties = np.loadtxt(\"../data/fips-county-state.csv\", delimiter=\",\", dtype=str, skiprows=1)\n",
      "print \"counties:\"\n",
      "print counties[0:10,]\n",
      "\n",
      "# newdata = pd.read_csv(\"../data/all_data.csv\")\n",
      "# print \"new data:\"\n",
      "# print newdata.head()\n",
      "\n",
      "# abs_mobility = pd.read_csv(\"../data/absolute_mobility.tsv\", sep=\"\\t\")\n",
      "# print abs_mobility.head()"
     ],
     "language": "python",
     "metadata": {},
     "outputs": [
      {
       "output_type": "stream",
       "stream": "stdout",
       "text": [
        "counties:\n",
        "[['1001' 'Autauga' 'AL']\n",
        " ['1003' 'Baldwin' 'AL']\n",
        " ['1005' 'Barbour' 'GA']\n",
        " ['1007' 'Bibb' 'AL']\n",
        " ['1009' 'Blount' 'AL']\n",
        " ['1011' 'Bullock' 'AL']\n",
        " ['1013' 'Butler' 'AL']\n",
        " ['1015' 'Calhoun' 'GA']\n",
        " ['1017' 'Chambers' 'GA']\n",
        " ['1019' 'Cherokee' 'GA']]\n",
        "     id  absolute\n",
        "0  1001      38.4\n",
        "1  1003      39.6\n",
        "2  1005      36.1\n",
        "3  1007      39.1\n",
        "4  1009      42.0\n"
       ]
      }
     ],
     "prompt_number": 10
    },
    {
     "cell_type": "code",
     "collapsed": false,
     "input": [
      "# merge county and state from first file\n",
      "counties_col = []\n",
      "sm = shape(counties)[0]\n",
      "for i in xrange(sm):\n",
      "    counties_col.append(counties[i,1] + \" \" + counties[i,2])\n",
      "    \n",
      "print counties_col[0:10]\n",
      "\n",
      "counties_arr = np.array(counties_col).reshape(sm,1)\n",
      "counties2 = np.hstack((counties[:,0].reshape(sm,1), counties_arr))\n",
      "print counties2[0:10,]"
     ],
     "language": "python",
     "metadata": {},
     "outputs": [
      {
       "output_type": "stream",
       "stream": "stdout",
       "text": [
        "['Autauga AL', 'Baldwin AL', 'Barbour GA', 'Bibb AL', 'Blount AL', 'Bullock AL', 'Butler AL', 'Calhoun GA', 'Chambers GA', 'Cherokee GA']\n",
        "[['1001' 'Autauga AL']\n",
        " ['1003' 'Baldwin AL']\n",
        " ['1005' 'Barbour GA']\n",
        " ['1007' 'Bibb AL']\n",
        " ['1009' 'Blount AL']\n",
        " ['1011' 'Bullock AL']\n",
        " ['1013' 'Butler AL']\n",
        " ['1015' 'Calhoun GA']\n",
        " ['1017' 'Chambers GA']\n",
        " ['1019' 'Cherokee GA']]\n"
       ]
      }
     ],
     "prompt_number": 16
    },
    {
     "cell_type": "code",
     "collapsed": false,
     "input": [
      "# rename columns\n",
      "my_counties = pd.DataFrame(counties2, columns=[\"id\", \"county state\"])\n",
      "# print my_counties.head()\n",
      "\n",
      "abs_mobility = np.loadtxt(\"../data/absolute_mobility.tsv\", delimiter=\"\\t\", skiprows=1, dtype=object)\n",
      "# print abs_mobility[0:10,]\n",
      "\n",
      "pd_abs_mobility = pd.DataFrame(abs_mobility, columns=[\"id\", \"absolute\"])\n",
      "# print pd_abs_mobility.head()\n",
      "\n",
      "# merge data\n",
      "fipdata = my_counties.merge(right=pd_abs_mobility, how=\"right\", on=\"id\")\n",
      "print fipdata.head()\n",
      "\n",
      "# write output\n",
      "name_fip_mob.to_csv(\"../data/county_and_mobility.tsv\", sep=\"\\t\", index=False)"
     ],
     "language": "python",
     "metadata": {},
     "outputs": [
      {
       "output_type": "stream",
       "stream": "stdout",
       "text": [
        "     id county state absolute\n",
        "0  1001   Autauga AL     38.4\n",
        "1  1003   Baldwin AL     39.6\n",
        "2  1005   Barbour GA     36.1\n",
        "3  1007      Bibb AL     39.1\n",
        "4  1009    Blount AL       42\n"
       ]
      }
     ],
     "prompt_number": 48
    },
    {
     "cell_type": "code",
     "collapsed": false,
     "input": [
      "# rename columns\n",
      "my_counties = pd.DataFrame(counties2, columns=[\"county state\", \"id\"])\n",
      "\n",
      "# merge data\n",
      "fipdata = my_counties.merge(right=newdata, how=\"left\", on=\"county state\")\n",
      "print fipdata.head()\n",
      "\n",
      "# output data\n",
      "fipdata[\"fip\"].to_csv(\"../data/countyID_again.csv\", index=False)\n",
      "\n",
      "mobilitydata = fipdata[[\"fip\", \"absolute mobility\"]]\n",
      "print mobilitydata.head()\n",
      "# mobilitydata_again = pd.DataFrame(mobilitydata, columns = [\"id\", \"absolute\"])\n",
      "mobilitydata.to_csv(\"../data/absolute_mobility_again.tsv\", sep=\"\\t\", index=False)\n",
      "\n",
      "name_fip_mob = fipdata[[\"county state\", \"fip\", \"absolute mobility\"]]\n",
      "name_fip_mob.to_csv(\"../data/county_and_mobility.tsv\", sep=\"\\t\", index=False)"
     ],
     "language": "python",
     "metadata": {},
     "outputs": [
      {
       "ename": "KeyError",
       "evalue": "u'no item named county state'",
       "output_type": "pyerr",
       "traceback": [
        "\u001b[0;31m---------------------------------------------------------------------------\u001b[0m\n\u001b[0;31mKeyError\u001b[0m                                  Traceback (most recent call last)",
        "\u001b[0;32m<ipython-input-7-892476d3e89f>\u001b[0m in \u001b[0;36m<module>\u001b[0;34m()\u001b[0m\n\u001b[1;32m      3\u001b[0m \u001b[0;34m\u001b[0m\u001b[0m\n\u001b[1;32m      4\u001b[0m \u001b[0;31m# merge data\u001b[0m\u001b[0;34m\u001b[0m\u001b[0;34m\u001b[0m\u001b[0m\n\u001b[0;32m----> 5\u001b[0;31m \u001b[0mfipdata\u001b[0m \u001b[0;34m=\u001b[0m \u001b[0mmy_counties\u001b[0m\u001b[0;34m.\u001b[0m\u001b[0mmerge\u001b[0m\u001b[0;34m(\u001b[0m\u001b[0mright\u001b[0m\u001b[0;34m=\u001b[0m\u001b[0mnewdata\u001b[0m\u001b[0;34m,\u001b[0m \u001b[0mhow\u001b[0m\u001b[0;34m=\u001b[0m\u001b[0;34m\"left\"\u001b[0m\u001b[0;34m,\u001b[0m \u001b[0mon\u001b[0m\u001b[0;34m=\u001b[0m\u001b[0;34m\"county state\"\u001b[0m\u001b[0;34m)\u001b[0m\u001b[0;34m\u001b[0m\u001b[0m\n\u001b[0m\u001b[1;32m      6\u001b[0m \u001b[0;32mprint\u001b[0m \u001b[0mfipdata\u001b[0m\u001b[0;34m.\u001b[0m\u001b[0mhead\u001b[0m\u001b[0;34m(\u001b[0m\u001b[0;34m)\u001b[0m\u001b[0;34m\u001b[0m\u001b[0m\n\u001b[1;32m      7\u001b[0m \u001b[0;34m\u001b[0m\u001b[0m\n",
        "\u001b[0;32m/Users/anita/anaconda/lib/python2.7/site-packages/pandas/core/frame.pyc\u001b[0m in \u001b[0;36mmerge\u001b[0;34m(self, right, how, on, left_on, right_on, left_index, right_index, sort, suffixes, copy)\u001b[0m\n\u001b[1;32m   4704\u001b[0m                      \u001b[0mleft_on\u001b[0m\u001b[0;34m=\u001b[0m\u001b[0mleft_on\u001b[0m\u001b[0;34m,\u001b[0m \u001b[0mright_on\u001b[0m\u001b[0;34m=\u001b[0m\u001b[0mright_on\u001b[0m\u001b[0;34m,\u001b[0m\u001b[0;34m\u001b[0m\u001b[0m\n\u001b[1;32m   4705\u001b[0m                      \u001b[0mleft_index\u001b[0m\u001b[0;34m=\u001b[0m\u001b[0mleft_index\u001b[0m\u001b[0;34m,\u001b[0m \u001b[0mright_index\u001b[0m\u001b[0;34m=\u001b[0m\u001b[0mright_index\u001b[0m\u001b[0;34m,\u001b[0m \u001b[0msort\u001b[0m\u001b[0;34m=\u001b[0m\u001b[0msort\u001b[0m\u001b[0;34m,\u001b[0m\u001b[0;34m\u001b[0m\u001b[0m\n\u001b[0;32m-> 4706\u001b[0;31m                      suffixes=suffixes, copy=copy)\n\u001b[0m\u001b[1;32m   4707\u001b[0m \u001b[0;34m\u001b[0m\u001b[0m\n\u001b[1;32m   4708\u001b[0m     \u001b[0;31m#----------------------------------------------------------------------\u001b[0m\u001b[0;34m\u001b[0m\u001b[0;34m\u001b[0m\u001b[0m\n",
        "\u001b[0;32m/Users/anita/anaconda/lib/python2.7/site-packages/pandas/tools/merge.pyc\u001b[0m in \u001b[0;36mmerge\u001b[0;34m(left, right, how, on, left_on, right_on, left_index, right_index, sort, suffixes, copy)\u001b[0m\n\u001b[1;32m     34\u001b[0m                          \u001b[0mright_on\u001b[0m\u001b[0;34m=\u001b[0m\u001b[0mright_on\u001b[0m\u001b[0;34m,\u001b[0m \u001b[0mleft_index\u001b[0m\u001b[0;34m=\u001b[0m\u001b[0mleft_index\u001b[0m\u001b[0;34m,\u001b[0m\u001b[0;34m\u001b[0m\u001b[0m\n\u001b[1;32m     35\u001b[0m                          \u001b[0mright_index\u001b[0m\u001b[0;34m=\u001b[0m\u001b[0mright_index\u001b[0m\u001b[0;34m,\u001b[0m \u001b[0msort\u001b[0m\u001b[0;34m=\u001b[0m\u001b[0msort\u001b[0m\u001b[0;34m,\u001b[0m \u001b[0msuffixes\u001b[0m\u001b[0;34m=\u001b[0m\u001b[0msuffixes\u001b[0m\u001b[0;34m,\u001b[0m\u001b[0;34m\u001b[0m\u001b[0m\n\u001b[0;32m---> 36\u001b[0;31m                          copy=copy)\n\u001b[0m\u001b[1;32m     37\u001b[0m     \u001b[0;32mreturn\u001b[0m \u001b[0mop\u001b[0m\u001b[0;34m.\u001b[0m\u001b[0mget_result\u001b[0m\u001b[0;34m(\u001b[0m\u001b[0;34m)\u001b[0m\u001b[0;34m\u001b[0m\u001b[0m\n\u001b[1;32m     38\u001b[0m \u001b[0;32mif\u001b[0m \u001b[0m__debug__\u001b[0m\u001b[0;34m:\u001b[0m\u001b[0;34m\u001b[0m\u001b[0m\n",
        "\u001b[0;32m/Users/anita/anaconda/lib/python2.7/site-packages/pandas/tools/merge.pyc\u001b[0m in \u001b[0;36m__init__\u001b[0;34m(self, left, right, how, on, left_on, right_on, axis, left_index, right_index, sort, suffixes, copy)\u001b[0m\n\u001b[1;32m    178\u001b[0m         (self.left_join_keys,\n\u001b[1;32m    179\u001b[0m          \u001b[0mself\u001b[0m\u001b[0;34m.\u001b[0m\u001b[0mright_join_keys\u001b[0m\u001b[0;34m,\u001b[0m\u001b[0;34m\u001b[0m\u001b[0m\n\u001b[0;32m--> 180\u001b[0;31m          self.join_names) = self._get_merge_keys()\n\u001b[0m\u001b[1;32m    181\u001b[0m \u001b[0;34m\u001b[0m\u001b[0m\n\u001b[1;32m    182\u001b[0m     \u001b[0;32mdef\u001b[0m \u001b[0mget_result\u001b[0m\u001b[0;34m(\u001b[0m\u001b[0mself\u001b[0m\u001b[0;34m)\u001b[0m\u001b[0;34m:\u001b[0m\u001b[0;34m\u001b[0m\u001b[0m\n",
        "\u001b[0;32m/Users/anita/anaconda/lib/python2.7/site-packages/pandas/tools/merge.pyc\u001b[0m in \u001b[0;36m_get_merge_keys\u001b[0;34m(self)\u001b[0m\n\u001b[1;32m    321\u001b[0m                 \u001b[0;32melse\u001b[0m\u001b[0;34m:\u001b[0m\u001b[0;34m\u001b[0m\u001b[0m\n\u001b[1;32m    322\u001b[0m                     \u001b[0;32mif\u001b[0m \u001b[0;32mnot\u001b[0m \u001b[0mis_rkey\u001b[0m\u001b[0;34m(\u001b[0m\u001b[0mrk\u001b[0m\u001b[0;34m)\u001b[0m\u001b[0;34m:\u001b[0m\u001b[0;34m\u001b[0m\u001b[0m\n\u001b[0;32m--> 323\u001b[0;31m                         \u001b[0mright_keys\u001b[0m\u001b[0;34m.\u001b[0m\u001b[0mappend\u001b[0m\u001b[0;34m(\u001b[0m\u001b[0mright\u001b[0m\u001b[0;34m[\u001b[0m\u001b[0mrk\u001b[0m\u001b[0;34m]\u001b[0m\u001b[0;34m.\u001b[0m\u001b[0mvalues\u001b[0m\u001b[0;34m)\u001b[0m\u001b[0;34m\u001b[0m\u001b[0m\n\u001b[0m\u001b[1;32m    324\u001b[0m                         \u001b[0;32mif\u001b[0m \u001b[0mlk\u001b[0m \u001b[0;34m==\u001b[0m \u001b[0mrk\u001b[0m\u001b[0;34m:\u001b[0m\u001b[0;34m\u001b[0m\u001b[0m\n\u001b[1;32m    325\u001b[0m                             \u001b[0;31m# avoid key upcast in corner case (length-0)\u001b[0m\u001b[0;34m\u001b[0m\u001b[0;34m\u001b[0m\u001b[0m\n",
        "\u001b[0;32m/Users/anita/anaconda/lib/python2.7/site-packages/pandas/core/frame.pyc\u001b[0m in \u001b[0;36m__getitem__\u001b[0;34m(self, key)\u001b[0m\n\u001b[1;32m   2001\u001b[0m             \u001b[0;31m# get column\u001b[0m\u001b[0;34m\u001b[0m\u001b[0;34m\u001b[0m\u001b[0m\n\u001b[1;32m   2002\u001b[0m             \u001b[0;32mif\u001b[0m \u001b[0mself\u001b[0m\u001b[0;34m.\u001b[0m\u001b[0mcolumns\u001b[0m\u001b[0;34m.\u001b[0m\u001b[0mis_unique\u001b[0m\u001b[0;34m:\u001b[0m\u001b[0;34m\u001b[0m\u001b[0m\n\u001b[0;32m-> 2003\u001b[0;31m                 \u001b[0;32mreturn\u001b[0m \u001b[0mself\u001b[0m\u001b[0;34m.\u001b[0m\u001b[0m_get_item_cache\u001b[0m\u001b[0;34m(\u001b[0m\u001b[0mkey\u001b[0m\u001b[0;34m)\u001b[0m\u001b[0;34m\u001b[0m\u001b[0m\n\u001b[0m\u001b[1;32m   2004\u001b[0m \u001b[0;34m\u001b[0m\u001b[0m\n\u001b[1;32m   2005\u001b[0m             \u001b[0;31m# duplicate columns\u001b[0m\u001b[0;34m\u001b[0m\u001b[0;34m\u001b[0m\u001b[0m\n",
        "\u001b[0;32m/Users/anita/anaconda/lib/python2.7/site-packages/pandas/core/generic.pyc\u001b[0m in \u001b[0;36m_get_item_cache\u001b[0;34m(self, item)\u001b[0m\n\u001b[1;32m    665\u001b[0m             \u001b[0;32mreturn\u001b[0m \u001b[0mcache\u001b[0m\u001b[0;34m[\u001b[0m\u001b[0mitem\u001b[0m\u001b[0;34m]\u001b[0m\u001b[0;34m\u001b[0m\u001b[0m\n\u001b[1;32m    666\u001b[0m         \u001b[0;32mexcept\u001b[0m \u001b[0mException\u001b[0m\u001b[0;34m:\u001b[0m\u001b[0;34m\u001b[0m\u001b[0m\n\u001b[0;32m--> 667\u001b[0;31m             \u001b[0mvalues\u001b[0m \u001b[0;34m=\u001b[0m \u001b[0mself\u001b[0m\u001b[0;34m.\u001b[0m\u001b[0m_data\u001b[0m\u001b[0;34m.\u001b[0m\u001b[0mget\u001b[0m\u001b[0;34m(\u001b[0m\u001b[0mitem\u001b[0m\u001b[0;34m)\u001b[0m\u001b[0;34m\u001b[0m\u001b[0m\n\u001b[0m\u001b[1;32m    668\u001b[0m             \u001b[0mres\u001b[0m \u001b[0;34m=\u001b[0m \u001b[0mself\u001b[0m\u001b[0;34m.\u001b[0m\u001b[0m_box_item_values\u001b[0m\u001b[0;34m(\u001b[0m\u001b[0mitem\u001b[0m\u001b[0;34m,\u001b[0m \u001b[0mvalues\u001b[0m\u001b[0;34m)\u001b[0m\u001b[0;34m\u001b[0m\u001b[0m\n\u001b[1;32m    669\u001b[0m             \u001b[0mcache\u001b[0m\u001b[0;34m[\u001b[0m\u001b[0mitem\u001b[0m\u001b[0;34m]\u001b[0m \u001b[0;34m=\u001b[0m \u001b[0mres\u001b[0m\u001b[0;34m\u001b[0m\u001b[0m\n",
        "\u001b[0;32m/Users/anita/anaconda/lib/python2.7/site-packages/pandas/core/internals.pyc\u001b[0m in \u001b[0;36mget\u001b[0;34m(self, item)\u001b[0m\n\u001b[1;32m   1653\u001b[0m     \u001b[0;32mdef\u001b[0m \u001b[0mget\u001b[0m\u001b[0;34m(\u001b[0m\u001b[0mself\u001b[0m\u001b[0;34m,\u001b[0m \u001b[0mitem\u001b[0m\u001b[0;34m)\u001b[0m\u001b[0;34m:\u001b[0m\u001b[0;34m\u001b[0m\u001b[0m\n\u001b[1;32m   1654\u001b[0m         \u001b[0;32mif\u001b[0m \u001b[0mself\u001b[0m\u001b[0;34m.\u001b[0m\u001b[0mitems\u001b[0m\u001b[0;34m.\u001b[0m\u001b[0mis_unique\u001b[0m\u001b[0;34m:\u001b[0m\u001b[0;34m\u001b[0m\u001b[0m\n\u001b[0;32m-> 1655\u001b[0;31m             \u001b[0m_\u001b[0m\u001b[0;34m,\u001b[0m \u001b[0mblock\u001b[0m \u001b[0;34m=\u001b[0m \u001b[0mself\u001b[0m\u001b[0;34m.\u001b[0m\u001b[0m_find_block\u001b[0m\u001b[0;34m(\u001b[0m\u001b[0mitem\u001b[0m\u001b[0;34m)\u001b[0m\u001b[0;34m\u001b[0m\u001b[0m\n\u001b[0m\u001b[1;32m   1656\u001b[0m             \u001b[0;32mreturn\u001b[0m \u001b[0mblock\u001b[0m\u001b[0;34m.\u001b[0m\u001b[0mget\u001b[0m\u001b[0;34m(\u001b[0m\u001b[0mitem\u001b[0m\u001b[0;34m)\u001b[0m\u001b[0;34m\u001b[0m\u001b[0m\n\u001b[1;32m   1657\u001b[0m         \u001b[0;32melse\u001b[0m\u001b[0;34m:\u001b[0m\u001b[0;34m\u001b[0m\u001b[0m\n",
        "\u001b[0;32m/Users/anita/anaconda/lib/python2.7/site-packages/pandas/core/internals.pyc\u001b[0m in \u001b[0;36m_find_block\u001b[0;34m(self, item)\u001b[0m\n\u001b[1;32m   1933\u001b[0m \u001b[0;34m\u001b[0m\u001b[0m\n\u001b[1;32m   1934\u001b[0m     \u001b[0;32mdef\u001b[0m \u001b[0m_find_block\u001b[0m\u001b[0;34m(\u001b[0m\u001b[0mself\u001b[0m\u001b[0;34m,\u001b[0m \u001b[0mitem\u001b[0m\u001b[0;34m)\u001b[0m\u001b[0;34m:\u001b[0m\u001b[0;34m\u001b[0m\u001b[0m\n\u001b[0;32m-> 1935\u001b[0;31m         \u001b[0mself\u001b[0m\u001b[0;34m.\u001b[0m\u001b[0m_check_have\u001b[0m\u001b[0;34m(\u001b[0m\u001b[0mitem\u001b[0m\u001b[0;34m)\u001b[0m\u001b[0;34m\u001b[0m\u001b[0m\n\u001b[0m\u001b[1;32m   1936\u001b[0m         \u001b[0;32mfor\u001b[0m \u001b[0mi\u001b[0m\u001b[0;34m,\u001b[0m \u001b[0mblock\u001b[0m \u001b[0;32min\u001b[0m \u001b[0menumerate\u001b[0m\u001b[0;34m(\u001b[0m\u001b[0mself\u001b[0m\u001b[0;34m.\u001b[0m\u001b[0mblocks\u001b[0m\u001b[0;34m)\u001b[0m\u001b[0;34m:\u001b[0m\u001b[0;34m\u001b[0m\u001b[0m\n\u001b[1;32m   1937\u001b[0m             \u001b[0;32mif\u001b[0m \u001b[0mitem\u001b[0m \u001b[0;32min\u001b[0m \u001b[0mblock\u001b[0m\u001b[0;34m:\u001b[0m\u001b[0;34m\u001b[0m\u001b[0m\n",
        "\u001b[0;32m/Users/anita/anaconda/lib/python2.7/site-packages/pandas/core/internals.pyc\u001b[0m in \u001b[0;36m_check_have\u001b[0;34m(self, item)\u001b[0m\n\u001b[1;32m   1940\u001b[0m     \u001b[0;32mdef\u001b[0m \u001b[0m_check_have\u001b[0m\u001b[0;34m(\u001b[0m\u001b[0mself\u001b[0m\u001b[0;34m,\u001b[0m \u001b[0mitem\u001b[0m\u001b[0;34m)\u001b[0m\u001b[0;34m:\u001b[0m\u001b[0;34m\u001b[0m\u001b[0m\n\u001b[1;32m   1941\u001b[0m         \u001b[0;32mif\u001b[0m \u001b[0mitem\u001b[0m \u001b[0;32mnot\u001b[0m \u001b[0;32min\u001b[0m \u001b[0mself\u001b[0m\u001b[0;34m.\u001b[0m\u001b[0mitems\u001b[0m\u001b[0;34m:\u001b[0m\u001b[0;34m\u001b[0m\u001b[0m\n\u001b[0;32m-> 1942\u001b[0;31m             \u001b[0;32mraise\u001b[0m \u001b[0mKeyError\u001b[0m\u001b[0;34m(\u001b[0m\u001b[0;34m'no item named %s'\u001b[0m \u001b[0;34m%\u001b[0m \u001b[0mcom\u001b[0m\u001b[0;34m.\u001b[0m\u001b[0mpprint_thing\u001b[0m\u001b[0;34m(\u001b[0m\u001b[0mitem\u001b[0m\u001b[0;34m)\u001b[0m\u001b[0;34m)\u001b[0m\u001b[0;34m\u001b[0m\u001b[0m\n\u001b[0m\u001b[1;32m   1943\u001b[0m \u001b[0;34m\u001b[0m\u001b[0m\n\u001b[1;32m   1944\u001b[0m     \u001b[0;32mdef\u001b[0m \u001b[0mreindex_axis\u001b[0m\u001b[0;34m(\u001b[0m\u001b[0mself\u001b[0m\u001b[0;34m,\u001b[0m \u001b[0mnew_axis\u001b[0m\u001b[0;34m,\u001b[0m \u001b[0mmethod\u001b[0m\u001b[0;34m=\u001b[0m\u001b[0mNone\u001b[0m\u001b[0;34m,\u001b[0m \u001b[0maxis\u001b[0m\u001b[0;34m=\u001b[0m\u001b[0;36m0\u001b[0m\u001b[0;34m,\u001b[0m \u001b[0mcopy\u001b[0m\u001b[0;34m=\u001b[0m\u001b[0mTrue\u001b[0m\u001b[0;34m)\u001b[0m\u001b[0;34m:\u001b[0m\u001b[0;34m\u001b[0m\u001b[0m\n",
        "\u001b[0;31mKeyError\u001b[0m: u'no item named county state'"
       ]
      }
     ],
     "prompt_number": 7
    },
    {
     "cell_type": "code",
     "collapsed": false,
     "input": [
      "# load data\n",
      "county_data = pd.read_csv(\"../data/just-county.csv\")\n",
      "cz = pd.read_csv(\"../data/just-cz.csv\")\n",
      "\n",
      "print \"COUNTIES:\"\n",
      "print fipdata.head()\n",
      "print\n",
      "print \"COUNTIES DATA:\"\n",
      "print county_data.head()\n",
      "print\n",
      "print \"COMMUTING ZONES DATA:\"\n",
      "print cz.head()"
     ],
     "language": "python",
     "metadata": {},
     "outputs": [
      {
       "output_type": "stream",
       "stream": "stdout",
       "text": [
        "COUNTIES:\n",
        "  county state   fip  relative mobility  absolute mobility  sample size  \\\n",
        "0   Autauga AL  1001              0.444               38.4         1846   \n",
        "1   Baldwin AL  1003              0.336               39.6         5061   \n",
        "2   Barbour GA  1005              0.398               36.1         1129   \n",
        "3      Bibb AL  1007              0.434               39.1          841   \n",
        "4    Blount AL  1009              0.317               42.0         1224   \n",
        "\n",
        "         lat       long  \n",
        "0  32.500389 -86.494165  \n",
        "1  30.548923 -87.762381  \n",
        "2        NaN        NaN  \n",
        "3  33.030921 -87.127659  \n",
        "4  33.955243 -86.591491  \n",
        "\n",
        "COUNTIES DATA:\n",
        "   county id  commuting zone id  teenage br  mean parent income\n",
        "0       1001              11101       0.178               64000\n",
        "1       1003              11001       0.170               75300\n",
        "2       1005              10301       0.238               50000\n",
        "3       1007              10801       0.225               49600\n",
        "4       1009              10700       0.204               57300\n",
        "\n",
        "COMMUTING ZONES DATA:\n",
        "   commuting zone id  racial segregation  school exp per student  ts ratio  \\\n",
        "0                100               0.090                   5.185       NaN   \n",
        "1                200               0.093                   4.506       NaN   \n",
        "2                301               0.064                   5.614      15.1   \n",
        "3                302               0.210                   4.900       NaN   \n",
        "4                401               0.262                   5.463      15.4   \n",
        "\n",
        "   test score percentile  hs dropout rate  teenage labor force  violent crime  \\\n",
        "0                  2.728           -0.015                0.004          0.001   \n",
        "1                 -3.400           -0.024                0.005          0.002   \n",
        "2                 -9.315           -0.005                0.003          0.001   \n",
        "3                 -6.032           -0.011                0.004          0.001   \n",
        "4                 -2.297            0.023                0.004          0.003   \n",
        "\n",
        "   single mothers  divorced  \n",
        "0           0.190     0.110  \n",
        "1           0.185     0.116  \n",
        "2           0.211     0.113  \n",
        "3           0.206     0.114  \n",
        "4           0.220     0.092  "
       ]
      },
      {
       "output_type": "stream",
       "stream": "stdout",
       "text": [
        "\n"
       ]
      }
     ],
     "prompt_number": 30
    },
    {
     "cell_type": "code",
     "collapsed": false,
     "input": [
      "# select a subset of the commuting zone features\n",
      "sub_cz = pd.DataFrame(cz, columns = [\"commuting zone id\", \"school exp per student\", \"ts ratio\",\n",
      "                                     \"test score percentile\", \"hs dropout rate\"])\n",
      "\n",
      "print sub_cz.head()\n",
      "\n",
      "print shape(sub_cz)"
     ],
     "language": "python",
     "metadata": {},
     "outputs": [
      {
       "output_type": "stream",
       "stream": "stdout",
       "text": [
        "   commuting zone id  school exp per student  ts ratio  test score percentile  \\\n",
        "0                100                   5.185       NaN                  2.728   \n",
        "1                200                   4.506       NaN                 -3.400   \n",
        "2                301                   5.614      15.1                 -9.315   \n",
        "3                302                   4.900       NaN                 -6.032   \n",
        "4                401                   5.463      15.4                 -2.297   \n",
        "\n",
        "   hs dropout rate  \n",
        "0           -0.015  \n",
        "1           -0.024  \n",
        "2           -0.005  \n",
        "3           -0.011  \n",
        "4            0.023  \n",
        "(741, 5)\n"
       ]
      }
     ],
     "prompt_number": 31
    },
    {
     "cell_type": "markdown",
     "metadata": {},
     "source": [
      "Let's merge the subset of commuting zone data with county data. Recall that there are more counties than commuting zones. This is because a commuting zone is _defined as_ as an aggregation of counties. We want to merge on the commuting zone ID's."
     ]
    },
    {
     "cell_type": "code",
     "collapsed": false,
     "input": [
      "alldata = counties.merge(right=sub_cz, how=\"left\", on=\"commuting zone id\")\n",
      "\n",
      "print alldata.head()\n",
      "print shape(alldata)"
     ],
     "language": "python",
     "metadata": {},
     "outputs": [
      {
       "output_type": "stream",
       "stream": "stdout",
       "text": [
        "   county id  commuting zone id  teenage br  mean parent income  \\\n",
        "0       1001              11101       0.178               64000   \n",
        "1       1013              11101       0.205               44900   \n",
        "2       1051              11101       0.183               60500   \n",
        "3       1085              11101       0.232               34400   \n",
        "4       1101              11101       0.196               72300   \n",
        "\n",
        "   school exp per student  ts ratio  test score percentile  hs dropout rate  \n",
        "0                   4.424      17.9                -17.887            0.005  \n",
        "1                   4.424      17.9                -17.887            0.005  \n",
        "2                   4.424      17.9                -17.887            0.005  \n",
        "3                   4.424      17.9                -17.887            0.005  \n",
        "4                   4.424      17.9                -17.887            0.005  \n",
        "(3141, 8)\n"
       ]
      }
     ],
     "prompt_number": 5
    },
    {
     "cell_type": "code",
     "collapsed": false,
     "input": [
      "# remove empty rows from alldata\n",
      "alldata = alldata.dropna()\n",
      "print alldata.tail()"
     ],
     "language": "python",
     "metadata": {},
     "outputs": [
      {
       "output_type": "stream",
       "stream": "stdout",
       "text": [
        "      county id  commuting zone id  teenage br  mean parent income  \\\n",
        "3133      56009              34603       0.174               68700   \n",
        "3134      56025              34603       0.157               83300   \n",
        "3135      56013              34303       0.179               60500   \n",
        "3136      56015              27703       0.156               54900   \n",
        "3137      56031              27703       0.143               62200   \n",
        "\n",
        "      school exp per student  ts ratio  test score percentile  hs dropout rate  \n",
        "3133                   6.458      17.0                 -0.214            0.059  \n",
        "3134                   6.458      17.0                 -0.214            0.059  \n",
        "3135                   8.755      14.6                 -2.510            0.035  \n",
        "3136                   6.934      12.6                  8.823           -0.003  \n",
        "3137                   6.934      12.6                  8.823           -0.003  \n"
       ]
      }
     ],
     "prompt_number": 14
    },
    {
     "cell_type": "code",
     "collapsed": false,
     "input": [
      "print shape(alldata)\n",
      "# write all columns to csv\n",
      "alldata.to_csv(\"../data/all_data.csv\", index=False)"
     ],
     "language": "python",
     "metadata": {},
     "outputs": [
      {
       "output_type": "stream",
       "stream": "stdout",
       "text": [
        "(2164, 8)\n"
       ]
      }
     ],
     "prompt_number": 16
    },
    {
     "cell_type": "code",
     "collapsed": false,
     "input": [
      "# write features to csv\n",
      "data_of_interest = alldata.reindex( columns=[\"teenage br\", \"mean parent income\", \"school exp per student\",\n",
      "                                             \"ts ratio\", \"test score percentile\", \"hs dropout rate\"] )\n",
      "data_of_interest.columns= [\"Teenage Birth Rates\", \"Mean Parent Income\", \"School Expenditure/Student\",\n",
      "                                             \"Teacher-Student Ratio\", \"Test Score Percentile\", \n",
      "                                             \"HS Dropout Rate\"]\n",
      "data_of_interest.to_csv(\"../data/feature_vectors.csv\", index=False)\n"
     ],
     "language": "python",
     "metadata": {},
     "outputs": [],
     "prompt_number": 8
    },
    {
     "cell_type": "code",
     "collapsed": false,
     "input": [],
     "language": "python",
     "metadata": {},
     "outputs": []
    }
   ],
   "metadata": {}
  }
 ]
}
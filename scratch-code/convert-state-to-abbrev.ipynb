{
 "metadata": {
  "name": ""
 },
 "nbformat": 3,
 "nbformat_minor": 0,
 "worksheets": [
  {
   "cells": [
    {
     "cell_type": "code",
     "collapsed": false,
     "input": [
      "%pylab inline\n",
      "\n",
      "from matplotlib import rc\n",
      "rc('font',**{'family':'serif','serif':['Palatino']})\n",
      "rc('text', usetex=True)\n",
      "\n",
      "import numpy as np\n",
      "import scipy\n",
      "import pandas as pd"
     ],
     "language": "python",
     "metadata": {},
     "outputs": [
      {
       "output_type": "stream",
       "stream": "stdout",
       "text": [
        "Populating the interactive namespace from numpy and matplotlib\n"
       ]
      }
     ],
     "prompt_number": 2
    },
    {
     "cell_type": "code",
     "collapsed": false,
     "input": [
      "state_to_code = {\"VERMONT\": \"VT\", \"GEORGIA\": \"GA\", \"IOWA\": \"IA\", \"Armed Forces Pacific\": \"AP\", \"GUAM\": \"GU\", \n",
      "                 \"KANSAS\": \"KS\", \"FLORIDA\": \"FL\", \"AMERICAN SAMOA\": \"AS\", \"NORTH CAROLINA\": \"NC\", \"HAWAII\": \"HI\", \n",
      "                 \"NEW YORK\": \"NY\", \"CALIFORNIA\": \"CA\", \"ALABAMA\": \"AL\", \"IDAHO\": \"ID\", \"FEDERATED STATES OF MICRONESIA\": \"FM\", \n",
      "                 \"Armed Forces Americas\": \"AA\", \"DELAWARE\": \"DE\", \"ALASKA\": \"AK\", \"ILLINOIS\": \"IL\", \"Armed Forces Africa\": \"AE\", \n",
      "                 \"SOUTH DAKOTA\": \"SD\", \"CONNECTICUT\": \"CT\", \"MONTANA\": \"MT\", \"MASSACHUSETTS\": \"MA\", \"PUERTO RICO\": \"PR\", \n",
      "                 \"Armed Forces Canada\": \"AE\", \"NEW HAMPSHIRE\": \"NH\", \"MARYLAND\": \"MD\", \"NEW MEXICO\": \"NM\", \"MISSISSIPPI\": \"MS\", \n",
      "                 \"TENNESSEE\": \"TN\", \"PALAU\": \"PW\", \"COLORADO\": \"CO\", \"Armed Forces Middle East\": \"AE\", \"NEW JERSEY\": \"NJ\", \n",
      "                 \"UTAH\": \"UT\", \"MICHIGAN\": \"MI\", \"WEST VIRGINIA\": \"WV\", \"WASHINGTON\": \"WA\", \"MINNESOTA\": \"MN\", \"OREGON\": \"OR\", \n",
      "                 \"VIRGINIA\": \"VA\", \"VIRGIN ISLANDS\": \"VI\", \"MARSHALL ISLANDS\": \"MH\", \"WYOMING\": \"WY\", \"OHIO\": \"OH\", \n",
      "                 \"SOUTH CAROLINA\": \"SC\", \"INDIANA\": \"IN\", \"NEVADA\": \"NV\", \"LOUISIANA\": \"LA\", \"NORTHERN MARIANA ISLANDS\": \"MP\", \n",
      "                 \"NEBRASKA\": \"NE\", \"ARIZONA\": \"AZ\", \"WISCONSIN\": \"WI\", \"NORTH DAKOTA\": \"ND\", \"Armed Forces Europe\": \"AE\", \n",
      "                 \"PENNSYLVANIA\": \"PA\", \"OKLAHOMA\": \"OK\", \"KENTUCKY\": \"KY\", \"RHODE ISLAND\": \"RI\", \"DISTRICT OF COLUMBIA\": \"DC\", \n",
      "                 \"ARKANSAS\": \"AR\", \"MISSOURI\": \"MO\", \"TEXAS\": \"TX\", \"MAINE\": \"ME\"}"
     ],
     "language": "python",
     "metadata": {},
     "outputs": [],
     "prompt_number": 3
    },
    {
     "cell_type": "code",
     "collapsed": false,
     "input": [
      "statedata = np.loadtxt(\"../data/location-county-state.csv\", delimiter=\",\", dtype=str, skiprows=1)\n",
      "print statedata[0:10,]"
     ],
     "language": "python",
     "metadata": {},
     "outputs": [
      {
       "output_type": "stream",
       "stream": "stdout",
       "text": [
        "[['Autauga' 'ALABAMA']\n",
        " ['Baldwin' 'ALABAMA']\n",
        " ['Barbour' 'ALABAMA']\n",
        " ['Bibb' 'ALABAMA']\n",
        " ['Blount' 'ALABAMA']\n",
        " ['Bullock' 'ALABAMA']\n",
        " ['Butler' 'ALABAMA']\n",
        " ['Calhoun' 'ALABAMA']\n",
        " ['Chambers' 'ALABAMA']\n",
        " ['Cherokee' 'ALABAMA']]\n"
       ]
      }
     ],
     "prompt_number": 19
    },
    {
     "cell_type": "code",
     "collapsed": false,
     "input": [
      "mystates = statedata[:,1]\n",
      "abbrev = []\n",
      "\n",
      "for item in mystates:\n",
      "    abbrev.append(state_to_code[item])\n",
      "\n",
      "abbrev = np.array(abbrev)"
     ],
     "language": "python",
     "metadata": {},
     "outputs": [],
     "prompt_number": 26
    },
    {
     "cell_type": "code",
     "collapsed": false,
     "input": [
      "print abbrev[0:10]\n",
      "print \n",
      "all_abbrev = abbrev.reshape(3221,1)\n",
      "print all_abbrev[0:10,]"
     ],
     "language": "python",
     "metadata": {},
     "outputs": [
      {
       "output_type": "stream",
       "stream": "stdout",
       "text": [
        "['AL' 'AL' 'AL' 'AL' 'AL' 'AL' 'AL' 'AL' 'AL' 'AL']\n",
        "\n",
        "[['AL']\n",
        " ['AL']\n",
        " ['AL']\n",
        " ['AL']\n",
        " ['AL']\n",
        " ['AL']\n",
        " ['AL']\n",
        " ['AL']\n",
        " ['AL']\n",
        " ['AL']]\n"
       ]
      }
     ],
     "prompt_number": 44
    },
    {
     "cell_type": "code",
     "collapsed": false,
     "input": [
      "full_state = statedata[:,0].reshape(3221,1)\n",
      "print full_state[0:10,]"
     ],
     "language": "python",
     "metadata": {},
     "outputs": [
      {
       "output_type": "stream",
       "stream": "stdout",
       "text": [
        "[['Autauga']\n",
        " ['Baldwin']\n",
        " ['Barbour']\n",
        " ['Bibb']\n",
        " ['Blount']\n",
        " ['Bullock']\n",
        " ['Butler']\n",
        " ['Calhoun']\n",
        " ['Chambers']\n",
        " ['Cherokee']]\n"
       ]
      }
     ],
     "prompt_number": 49
    },
    {
     "cell_type": "code",
     "collapsed": false,
     "input": [
      "newdata = np.hstack((full_state, all_abbrev))\n",
      "print newdata[0:10,]"
     ],
     "language": "python",
     "metadata": {},
     "outputs": [
      {
       "output_type": "stream",
       "stream": "stdout",
       "text": [
        "[['Autauga' 'AL']\n",
        " ['Baldwin' 'AL']\n",
        " ['Barbour' 'AL']\n",
        " ['Bibb' 'AL']\n",
        " ['Blount' 'AL']\n",
        " ['Bullock' 'AL']\n",
        " ['Butler' 'AL']\n",
        " ['Calhoun' 'AL']\n",
        " ['Chambers' 'AL']\n",
        " ['Cherokee' 'AL']]\n",
        "[['Autauga' 'Baldwin' 'Barbour' 'Bibb' 'Blount' 'Bullock' 'Butler'\n",
        "  'Calhoun' 'Chambers' 'Cherokee']\n",
        " ['AL' 'AL' 'AL' 'AL' 'AL' 'AL' 'AL' 'AL' 'AL' 'AL']]\n"
       ]
      }
     ],
     "prompt_number": 60
    },
    {
     "cell_type": "code",
     "collapsed": false,
     "input": [
      "np.savetxt(\"../data/location-county-state-abbrev.csv\", newdata, delimiter=\",\", fmt=\"%s, %s\")"
     ],
     "language": "python",
     "metadata": {},
     "outputs": [],
     "prompt_number": 64
    },
    {
     "cell_type": "code",
     "collapsed": false,
     "input": [],
     "language": "python",
     "metadata": {},
     "outputs": []
    }
   ],
   "metadata": {}
  }
 ]
}
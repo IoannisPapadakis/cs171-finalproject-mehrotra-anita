{
 "metadata": {
  "name": ""
 },
 "nbformat": 3,
 "nbformat_minor": 0,
 "worksheets": [
  {
   "cells": [
    {
     "cell_type": "code",
     "collapsed": false,
     "input": [
      "%pylab inline\n",
      "\n",
      "from matplotlib import rc\n",
      "rc('font',**{'family':'serif','serif':['Palatino']})\n",
      "rc('text', usetex=True)\n",
      "\n",
      "import numpy as np\n",
      "import scipy\n",
      "import scipy.stats\n",
      "import scipy.spatial\n",
      "import scipy.spatial.distance\n",
      "import matplotlib.pyplot as plt\n",
      "import prettyplotlib as pplt\n",
      "\n",
      "import pandas as pd\n",
      "import time"
     ],
     "language": "python",
     "metadata": {},
     "outputs": [
      {
       "output_type": "stream",
       "stream": "stdout",
       "text": [
        "Populating the interactive namespace from numpy and matplotlib\n"
       ]
      }
     ],
     "prompt_number": 1
    },
    {
     "cell_type": "code",
     "collapsed": false,
     "input": [
      "# load data\n",
      "counties = pd.read_csv(\"data/just-county.csv\")\n",
      "cz = pd.read_csv(\"data/just-cz.csv\")\n",
      "\n",
      "print \"COUNTIES:\"\n",
      "print counties.describe()\n",
      "print\n",
      "print \"COMMUTING ZONES:\"\n",
      "print cz.describe()"
     ],
     "language": "python",
     "metadata": {},
     "outputs": [
      {
       "output_type": "stream",
       "stream": "stdout",
       "text": [
        "COUNTIES:\n",
        "          county id  commuting zone id   teenage br  mean parent income\n",
        "count   3141.000000        3141.000000  2769.000000         2769.000000\n",
        "mean   30422.260427       20387.685132     0.165261        67419.682196\n",
        "std    15152.202272       11187.349735     0.057805        24519.768606\n",
        "min     1001.000000         100.000000     0.025000        26200.000000\n",
        "25%    18183.000000       10801.000000     0.120000        53200.000000\n",
        "50%    29181.000000       21701.000000     0.164000        62900.000000\n",
        "75%    45085.000000       29601.000000     0.207000        75400.000000\n",
        "max    56045.000000       39400.000000     0.365000       478400.000000\n",
        "\n",
        "COMMUTING ZONES:\n",
        "       commuting zone id  racial segregation  school exp per student  \\\n",
        "count         741.000000          741.000000              731.000000   \n",
        "mean        22443.815115            0.129752                6.036725   \n",
        "std         11125.539098            0.100056                1.185782   \n",
        "min           100.000000            0.000000                3.920000   \n",
        "25%         12701.000000            0.056000                5.167500   \n",
        "50%         26106.000000            0.107000                5.897000   \n",
        "75%         31301.000000            0.181000                6.626500   \n",
        "max         39400.000000            0.554000               11.906000   \n",
        "\n",
        "         ts ratio  test score percentile  hs dropout rate  \\\n",
        "count  711.000000             705.000000       593.000000   \n",
        "mean    16.507314               0.000013        -0.000007   \n",
        "std      2.429247               8.308821         0.022104   \n",
        "min      9.600000             -32.785000        -0.043000   \n",
        "25%     14.900000              -4.293000        -0.015000   \n",
        "50%     16.500000               0.741000        -0.004000   \n",
        "75%     18.000000               5.554000         0.011000   \n",
        "max     27.700000              20.071000         0.109000   \n",
        "\n",
        "       teenage labor force  violent crime  single mothers    divorced  \n",
        "count           709.000000     714.000000      741.000000  741.000000  \n",
        "mean              0.004827       0.001594        0.201730    0.096656  \n",
        "std               0.001397       0.001488        0.053021    0.017947  \n",
        "min               0.002000       0.000000        0.082000    0.040000  \n",
        "25%               0.004000       0.001000        0.171000    0.085000  \n",
        "50%               0.005000       0.001000        0.196000    0.098000  \n",
        "75%               0.006000       0.002000        0.226000    0.109000  \n",
        "max               0.008000       0.028000        0.434000    0.190000  "
       ]
      },
      {
       "output_type": "stream",
       "stream": "stdout",
       "text": [
        "\n"
       ]
      }
     ],
     "prompt_number": 7
    },
    {
     "cell_type": "code",
     "collapsed": false,
     "input": [
      "# select a subset of the commuting zone features\n",
      "sub_cz = pd.DataFrame(cz, columns = [\"commuting zone id\", \"ts ratio\",\n",
      "                                     \"test score percentile\", \"hs dropout rate\"])\n",
      "\n",
      "print sub_cz.head()\n",
      "\n",
      "print shape(sub_cz)"
     ],
     "language": "python",
     "metadata": {},
     "outputs": [
      {
       "output_type": "stream",
       "stream": "stdout",
       "text": [
        "   commuting zone id  ts ratio  test score percentile  hs dropout rate\n",
        "0                100       NaN                  2.728           -0.015\n",
        "1                200       NaN                 -3.400           -0.024\n",
        "2                301      15.1                 -9.315           -0.005\n",
        "3                302       NaN                 -6.032           -0.011\n",
        "4                401      15.4                 -2.297            0.023\n",
        "(741, 4)\n"
       ]
      }
     ],
     "prompt_number": 12
    },
    {
     "cell_type": "markdown",
     "metadata": {},
     "source": [
      "Let's merge the subset of commuting zone data with county data. Recall that there are more counties than commuting zones. This is because a commuting zone is _defined as_ as an aggregation of counties. We want to merge on the commuting zone ID's."
     ]
    },
    {
     "cell_type": "code",
     "collapsed": false,
     "input": [
      "alldata = counties.merge(right=sub_cz, how=\"left\", on=\"commuting zone id\")\n",
      "\n",
      "print alldata.head()\n",
      "print shape(alldata)"
     ],
     "language": "python",
     "metadata": {},
     "outputs": [
      {
       "output_type": "stream",
       "stream": "stdout",
       "text": [
        "   county id  commuting zone id  teenage br  mean parent income  ts ratio  \\\n",
        "0       1001              11101       0.178               64000      17.9   \n",
        "1       1013              11101       0.205               44900      17.9   \n",
        "2       1051              11101       0.183               60500      17.9   \n",
        "3       1085              11101       0.232               34400      17.9   \n",
        "4       1101              11101       0.196               72300      17.9   \n",
        "\n",
        "   test score percentile  hs dropout rate  \n",
        "0                -17.887            0.005  \n",
        "1                -17.887            0.005  \n",
        "2                -17.887            0.005  \n",
        "3                -17.887            0.005  \n",
        "4                -17.887            0.005  \n",
        "(3141, 7)\n"
       ]
      }
     ],
     "prompt_number": 15
    },
    {
     "cell_type": "code",
     "collapsed": false,
     "input": [
      "# write to csv\n",
      "data_of_interest = alldata.reindex( columns=[\"teenage br\", \"mean parent income\", \n",
      "                                             \"ts ratio\", \"test score percentile\", \"hs dropout rate\"] )\n",
      "data_of_interest.columns= [\"Teenage birthrate\", \"Mean Parent Income\", \n",
      "                                             \"Teacher-Student Ratio\", \"Test Score Percentile\", \n",
      "                                             \"HS Dropout Rate\"]\n",
      "data_of_interest.to_csv(\"data/feature_vectors.csv\", index=False)\n",
      "\n"
     ],
     "language": "python",
     "metadata": {},
     "outputs": [],
     "prompt_number": 18
    },
    {
     "cell_type": "code",
     "collapsed": false,
     "input": [],
     "language": "python",
     "metadata": {},
     "outputs": []
    }
   ],
   "metadata": {}
  }
 ]
}